{
 "cells": [
  {
   "cell_type": "markdown",
   "metadata": {},
   "source": [
    "# 0. PREAMBLE "
   ]
  },
  {
   "cell_type": "markdown",
   "metadata": {},
   "source": [
    "Get the materials: TODO"
   ]
  },
  {
   "cell_type": "markdown",
   "metadata": {},
   "source": [
    "# # Requirements\n",
    "\n",
    "## This tutorial requires the following packages:\n",
    "\n",
    "    Python version 3.5\n",
    "        Python 3.4 should be fine as well\n",
    "        likely Python 2.7 would be also fine, but who knows? :P\n",
    "\n",
    "    numpy version 1.10 or later: http://www.numpy.org/\n",
    "    scipy version 0.16 or later: http://www.scipy.org/\n",
    "    matplotlib version 1.4 or later: http://matplotlib.org/\n",
    "    pandas version 0.16 or later: http://pandas.pydata.org\n",
    "    scikit-learn version 0.15 or later: http://scikit-learn.org\n",
    "    ipython/jupyter version 4.0 or later, with notebook support\n",
    "    seaborn version 0.19.0 or later https://seaborn.pydata.org/\n"
   ]
  },
  {
   "cell_type": "markdown",
   "metadata": {},
   "source": [
    "# Python version\n",
    "\n",
    "Currently running Python **3** on **Anaconda**"
   ]
  },
  {
   "cell_type": "code",
   "execution_count": 1,
   "metadata": {},
   "outputs": [
    {
     "name": "stdout",
     "output_type": "stream",
     "text": [
      "Python 2.7.12\r\n"
     ]
    }
   ],
   "source": [
    "!python --version"
   ]
  },
  {
   "cell_type": "code",
   "execution_count": 17,
   "metadata": {
    "collapsed": true
   },
   "outputs": [],
   "source": [
    "# Create new env and add kernel to ipython\n",
    "#!python -m pip install ipykernel\n",
    "#!python -m ipykernel install --user --name hackcancer --display-name \"HackCancer\""
   ]
  },
  {
   "cell_type": "code",
   "execution_count": 8,
   "metadata": {},
   "outputs": [
    {
     "name": "stdout",
     "output_type": "stream",
     "text": [
      "Collecting seaborn\n",
      "Requirement already satisfied: matplotlib in /home/alabarga/NavarraBiomed/ONCONET/codigo/.hackcancer_env/lib/python2.7/site-packages (from seaborn) (2.2.2)\n",
      "Requirement already satisfied: pyparsing!=2.0.4,!=2.1.2,!=2.1.6,>=2.0.1 in /home/alabarga/NavarraBiomed/ONCONET/codigo/.hackcancer_env/lib/python2.7/site-packages (from matplotlib->seaborn) (2.2.0)\n",
      "Requirement already satisfied: backports.functools-lru-cache in /home/alabarga/NavarraBiomed/ONCONET/codigo/.hackcancer_env/lib/python2.7/site-packages (from matplotlib->seaborn) (1.5)\n",
      "Requirement already satisfied: subprocess32 in /home/alabarga/NavarraBiomed/ONCONET/codigo/.hackcancer_env/lib/python2.7/site-packages (from matplotlib->seaborn) (3.5.2)\n",
      "Requirement already satisfied: pytz in /home/alabarga/NavarraBiomed/ONCONET/codigo/.hackcancer_env/lib/python2.7/site-packages (from matplotlib->seaborn) (2018.4)\n",
      "Requirement already satisfied: six>=1.10 in /home/alabarga/NavarraBiomed/ONCONET/codigo/.hackcancer_env/lib/python2.7/site-packages (from matplotlib->seaborn) (1.11.0)\n",
      "Requirement already satisfied: python-dateutil>=2.1 in /home/alabarga/NavarraBiomed/ONCONET/codigo/.hackcancer_env/lib/python2.7/site-packages (from matplotlib->seaborn) (2.7.3)\n",
      "Requirement already satisfied: kiwisolver>=1.0.1 in /home/alabarga/NavarraBiomed/ONCONET/codigo/.hackcancer_env/lib/python2.7/site-packages (from matplotlib->seaborn) (1.0.1)\n",
      "Requirement already satisfied: cycler>=0.10 in /home/alabarga/NavarraBiomed/ONCONET/codigo/.hackcancer_env/lib/python2.7/site-packages (from matplotlib->seaborn) (0.10.0)\n",
      "Requirement already satisfied: numpy>=1.7.1 in /home/alabarga/NavarraBiomed/ONCONET/codigo/.hackcancer_env/lib/python2.7/site-packages (from matplotlib->seaborn) (1.14.4)\n",
      "Requirement already satisfied: setuptools in /home/alabarga/NavarraBiomed/ONCONET/codigo/.hackcancer_env/lib/python2.7/site-packages (from kiwisolver>=1.0.1->matplotlib->seaborn) (39.2.0)\n",
      "Installing collected packages: seaborn\n",
      "Successfully installed seaborn-0.8.1\n"
     ]
    }
   ],
   "source": [
    "#!python -m pip install pandas scipy sklearn matplotlib seaborn"
   ]
  },
  {
   "cell_type": "markdown",
   "metadata": {},
   "source": [
    "# Test everything is running\n",
    "\n",
    "## 1. Check imports"
   ]
  },
  {
   "cell_type": "code",
   "execution_count": 9,
   "metadata": {},
   "outputs": [],
   "source": [
    "import numpy as np\n",
    "import scipy as sp\n",
    "import pandas as pd\n",
    "import matplotlib.pyplot as plt\n",
    "import sklearn\n",
    "import seaborn as sb"
   ]
  },
  {
   "cell_type": "markdown",
   "metadata": {},
   "source": [
    "## 2. Check installed Versions"
   ]
  },
  {
   "cell_type": "code",
   "execution_count": 10,
   "metadata": {},
   "outputs": [
    {
     "name": "stdout",
     "output_type": "stream",
     "text": [
      "('numpy:', '1.14.4')\n",
      "('scipy:', '1.1.0')\n",
      "('matplotlib:', '2.2.2')\n",
      "('iPython:', '5.7.0')\n",
      "('scikit-learn:', '0.19.1')\n",
      "('seaborn:', '0.19.1')\n"
     ]
    }
   ],
   "source": [
    "import numpy\n",
    "print('numpy:', numpy.__version__)\n",
    "\n",
    "import scipy\n",
    "print('scipy:', scipy.__version__)\n",
    "\n",
    "import matplotlib\n",
    "print('matplotlib:', matplotlib.__version__)\n",
    "\n",
    "import IPython\n",
    "print('iPython:', IPython.__version__)\n",
    "\n",
    "import sklearn\n",
    "print('scikit-learn:', sklearn.__version__)\n",
    "\n",
    "import seaborn\n",
    "print('seaborn:', sklearn.__version__)"
   ]
  },
  {
   "cell_type": "markdown",
   "metadata": {},
   "source": [
    "# If everything worked till down here, you're ready to start!"
   ]
  }
 ],
 "metadata": {
  "kernelspec": {
   "display_name": "HackCancer",
   "language": "python",
   "name": "hackcancer"
  },
  "language_info": {
   "codemirror_mode": {
    "name": "ipython",
    "version": 2
   },
   "file_extension": ".py",
   "mimetype": "text/x-python",
   "name": "python",
   "nbconvert_exporter": "python",
   "pygments_lexer": "ipython2",
   "version": "2.7.12"
  }
 },
 "nbformat": 4,
 "nbformat_minor": 1
}
